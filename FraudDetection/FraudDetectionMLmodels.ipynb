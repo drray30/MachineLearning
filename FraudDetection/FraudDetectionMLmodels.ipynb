{
 "cells": [
  {
   "cell_type": "markdown",
   "metadata": {},
   "source": [
    "## Jupyter notebook to demonstrate use of downsampling for imbalanced datasets"
   ]
  },
  {
   "cell_type": "markdown",
   "metadata": {},
   "source": [
    "### In the previous notebook, we looked at exploratory analysis. This notebook demonstrates a quick and dirty analysis to predict FRAUD. As expected, the sample is heavily imbalanced. One of "
   ]
  },
  {
   "cell_type": "code",
   "execution_count": 56,
   "metadata": {},
   "outputs": [],
   "source": [
    "import pandas as pd\n",
    "import numpy as np\n",
    "import collections\n",
    "newdf=pd.read_csv(\"data.csv\")"
   ]
  },
  {
   "cell_type": "markdown",
   "metadata": {},
   "source": [
    "### Four variables measuring Planning and Managing have been reduced using PCA to two factors each"
   ]
  },
  {
   "cell_type": "code",
   "execution_count": 57,
   "metadata": {},
   "outputs": [
    {
     "data": {
      "text/html": [
       "<div>\n",
       "<style scoped>\n",
       "    .dataframe tbody tr th:only-of-type {\n",
       "        vertical-align: middle;\n",
       "    }\n",
       "\n",
       "    .dataframe tbody tr th {\n",
       "        vertical-align: top;\n",
       "    }\n",
       "\n",
       "    .dataframe thead th {\n",
       "        text-align: right;\n",
       "    }\n",
       "</style>\n",
       "<table border=\"1\" class=\"dataframe\">\n",
       "  <thead>\n",
       "    <tr style=\"text-align: right;\">\n",
       "      <th></th>\n",
       "      <th>PUF_ID</th>\n",
       "      <th>sample</th>\n",
       "      <th>fpl</th>\n",
       "      <th>SWB_1</th>\n",
       "      <th>SWB_2</th>\n",
       "      <th>SWB_3</th>\n",
       "      <th>FWBscore</th>\n",
       "      <th>FWB1_1</th>\n",
       "      <th>FWB1_2</th>\n",
       "      <th>FWB1_3</th>\n",
       "      <th>...</th>\n",
       "      <th>PPMSACAT</th>\n",
       "      <th>PPREG4</th>\n",
       "      <th>PPREG9</th>\n",
       "      <th>PPT01</th>\n",
       "      <th>PPT25</th>\n",
       "      <th>PPT612</th>\n",
       "      <th>PPT1317</th>\n",
       "      <th>PPT18OV</th>\n",
       "      <th>PCTLT200FPL</th>\n",
       "      <th>finalwt</th>\n",
       "    </tr>\n",
       "  </thead>\n",
       "  <tbody>\n",
       "    <tr>\n",
       "      <th>0</th>\n",
       "      <td>10350</td>\n",
       "      <td>2</td>\n",
       "      <td>3</td>\n",
       "      <td>5</td>\n",
       "      <td>5</td>\n",
       "      <td>6</td>\n",
       "      <td>55</td>\n",
       "      <td>3</td>\n",
       "      <td>3</td>\n",
       "      <td>3</td>\n",
       "      <td>...</td>\n",
       "      <td>1</td>\n",
       "      <td>4</td>\n",
       "      <td>8</td>\n",
       "      <td>0</td>\n",
       "      <td>0</td>\n",
       "      <td>0</td>\n",
       "      <td>0</td>\n",
       "      <td>1</td>\n",
       "      <td>0</td>\n",
       "      <td>0.367292</td>\n",
       "    </tr>\n",
       "    <tr>\n",
       "      <th>1</th>\n",
       "      <td>7740</td>\n",
       "      <td>1</td>\n",
       "      <td>3</td>\n",
       "      <td>6</td>\n",
       "      <td>6</td>\n",
       "      <td>6</td>\n",
       "      <td>51</td>\n",
       "      <td>2</td>\n",
       "      <td>2</td>\n",
       "      <td>3</td>\n",
       "      <td>...</td>\n",
       "      <td>1</td>\n",
       "      <td>2</td>\n",
       "      <td>3</td>\n",
       "      <td>0</td>\n",
       "      <td>0</td>\n",
       "      <td>0</td>\n",
       "      <td>0</td>\n",
       "      <td>2</td>\n",
       "      <td>0</td>\n",
       "      <td>1.327561</td>\n",
       "    </tr>\n",
       "    <tr>\n",
       "      <th>2</th>\n",
       "      <td>13699</td>\n",
       "      <td>1</td>\n",
       "      <td>3</td>\n",
       "      <td>4</td>\n",
       "      <td>3</td>\n",
       "      <td>4</td>\n",
       "      <td>49</td>\n",
       "      <td>3</td>\n",
       "      <td>3</td>\n",
       "      <td>3</td>\n",
       "      <td>...</td>\n",
       "      <td>1</td>\n",
       "      <td>4</td>\n",
       "      <td>9</td>\n",
       "      <td>0</td>\n",
       "      <td>0</td>\n",
       "      <td>0</td>\n",
       "      <td>1</td>\n",
       "      <td>2</td>\n",
       "      <td>1</td>\n",
       "      <td>0.835156</td>\n",
       "    </tr>\n",
       "    <tr>\n",
       "      <th>3</th>\n",
       "      <td>7267</td>\n",
       "      <td>1</td>\n",
       "      <td>3</td>\n",
       "      <td>6</td>\n",
       "      <td>6</td>\n",
       "      <td>6</td>\n",
       "      <td>49</td>\n",
       "      <td>3</td>\n",
       "      <td>3</td>\n",
       "      <td>3</td>\n",
       "      <td>...</td>\n",
       "      <td>1</td>\n",
       "      <td>3</td>\n",
       "      <td>7</td>\n",
       "      <td>0</td>\n",
       "      <td>0</td>\n",
       "      <td>0</td>\n",
       "      <td>0</td>\n",
       "      <td>1</td>\n",
       "      <td>0</td>\n",
       "      <td>1.410871</td>\n",
       "    </tr>\n",
       "    <tr>\n",
       "      <th>4</th>\n",
       "      <td>7375</td>\n",
       "      <td>1</td>\n",
       "      <td>3</td>\n",
       "      <td>4</td>\n",
       "      <td>4</td>\n",
       "      <td>4</td>\n",
       "      <td>49</td>\n",
       "      <td>3</td>\n",
       "      <td>3</td>\n",
       "      <td>3</td>\n",
       "      <td>...</td>\n",
       "      <td>1</td>\n",
       "      <td>2</td>\n",
       "      <td>4</td>\n",
       "      <td>0</td>\n",
       "      <td>0</td>\n",
       "      <td>1</td>\n",
       "      <td>0</td>\n",
       "      <td>4</td>\n",
       "      <td>1</td>\n",
       "      <td>4.260668</td>\n",
       "    </tr>\n",
       "  </tbody>\n",
       "</table>\n",
       "<p>5 rows × 217 columns</p>\n",
       "</div>"
      ],
      "text/plain": [
       "   PUF_ID  sample  fpl  SWB_1  SWB_2  SWB_3  FWBscore  FWB1_1  FWB1_2  FWB1_3  \\\n",
       "0   10350       2    3      5      5      6        55       3       3       3   \n",
       "1    7740       1    3      6      6      6        51       2       2       3   \n",
       "2   13699       1    3      4      3      4        49       3       3       3   \n",
       "3    7267       1    3      6      6      6        49       3       3       3   \n",
       "4    7375       1    3      4      4      4        49       3       3       3   \n",
       "\n",
       "     ...     PPMSACAT  PPREG4  PPREG9  PPT01  PPT25  PPT612  PPT1317  PPT18OV  \\\n",
       "0    ...            1       4       8      0      0       0        0        1   \n",
       "1    ...            1       2       3      0      0       0        0        2   \n",
       "2    ...            1       4       9      0      0       0        1        2   \n",
       "3    ...            1       3       7      0      0       0        0        1   \n",
       "4    ...            1       2       4      0      0       1        0        4   \n",
       "\n",
       "   PCTLT200FPL   finalwt  \n",
       "0            0  0.367292  \n",
       "1            0  1.327561  \n",
       "2            1  0.835156  \n",
       "3            0  1.410871  \n",
       "4            1  4.260668  \n",
       "\n",
       "[5 rows x 217 columns]"
      ]
     },
     "execution_count": 57,
     "metadata": {},
     "output_type": "execute_result"
    }
   ],
   "source": [
    "newdf.head()"
   ]
  },
  {
   "cell_type": "code",
   "execution_count": 58,
   "metadata": {},
   "outputs": [
    {
     "data": {
      "text/plain": [
       "Index(['PUF_ID', 'sample', 'fpl', 'SWB_1', 'SWB_2', 'SWB_3', 'FWBscore',\n",
       "       'FWB1_1', 'FWB1_2', 'FWB1_3',\n",
       "       ...\n",
       "       'PPMSACAT', 'PPREG4', 'PPREG9', 'PPT01', 'PPT25', 'PPT612', 'PPT1317',\n",
       "       'PPT18OV', 'PCTLT200FPL', 'finalwt'],\n",
       "      dtype='object', length=217)"
      ]
     },
     "execution_count": 58,
     "metadata": {},
     "output_type": "execute_result"
    }
   ],
   "source": [
    "newdf.columns"
   ]
  },
  {
   "cell_type": "markdown",
   "metadata": {},
   "source": [
    "### Dropping missing values"
   ]
  },
  {
   "cell_type": "code",
   "execution_count": 59,
   "metadata": {},
   "outputs": [],
   "source": [
    "newdf=newdf.replace(-1, np.nan)\n",
    "newdf=newdf.replace(-1, np.nan)\n",
    "newdf=newdf.dropna()\n",
    "newdf=newdf.astype(\"int64\")\n",
    "newdf=newdf.reset_index(drop=True)"
   ]
  },
  {
   "cell_type": "markdown",
   "metadata": {},
   "source": [
    "### Using PCA for dimensionality reduction"
   ]
  },
  {
   "cell_type": "code",
   "execution_count": 60,
   "metadata": {},
   "outputs": [],
   "source": [
    "#selecting specific columns for PCA\n",
    "df_pca_prop=newdf.loc[:,['PROPPLAN_1', 'PROPPLAN_2','PROPPLAN_3', 'PROPPLAN_4', \n",
    "                ]].copy()\n",
    "from sklearn.decomposition import PCA\n",
    "pca_sk = PCA()\n",
    "pca_sk.fit(df_pca_prop)\n",
    "X_transformed_sk =  pca_sk.fit_transform(df_pca_prop)\n",
    "Xdf=pd.DataFrame(X_transformed_sk[:,0:2])\n",
    "Xdf.reset_index(drop=True)\n",
    "resultdf = pd.concat([newdf, Xdf], axis=1)\n",
    "resultdf=resultdf.rename(columns={0:\"plan1\",1:\"plan2\"})"
   ]
  },
  {
   "cell_type": "code",
   "execution_count": 61,
   "metadata": {},
   "outputs": [],
   "source": [
    "#selecting specific columns for PCA\n",
    "df_pca_man=newdf.loc[:,['MANAGE1_1', 'MANAGE1_2', 'MANAGE1_3','MANAGE1_4']].copy()\n",
    "#doing the dimensionality reduction for manage\n",
    "from sklearn.decomposition import PCA\n",
    "pca = PCA()\n",
    "pca.fit(df_pca_man)\n",
    "X_tr_sk =  pca_sk.fit_transform(df_pca_man)\n",
    "Xdf=pd.DataFrame(X_tr_sk[:,0:2])\n",
    "Xdf.reset_index(drop=True)\n",
    "resultdf = pd.concat([resultdf, Xdf], axis=1)\n",
    "resultdf=resultdf.rename(columns={0:\"manage1\",1:\"manage2\"})"
   ]
  },
  {
   "cell_type": "markdown",
   "metadata": {},
   "source": [
    "### Dropping other columns"
   ]
  },
  {
   "cell_type": "code",
   "execution_count": 62,
   "metadata": {},
   "outputs": [],
   "source": [
    "resultdf=resultdf.drop(columns=['PROPPLAN_1','PROPPLAN_2','PROPPLAN_3','PROPPLAN_4',\n",
    "                       'MANAGE1_1','MANAGE1_2','MANAGE1_3','MANAGE1_4','PUF_ID','sample','finalwt',\n",
    "                               'FWB1_1','FWB1_2','FWB1_3','FWB1_4','FWB1_5','FWB1_6',\n",
    "                               'FWB2_1','FWB2_2','FWB2_3','FWB2_4','FS1_1','FS1_2','FS1_3','FS1_4',\n",
    "                               'FS1_5','FS1_6','FS1_7','FS2_1','FS2_2','FS2_3'])"
   ]
  },
  {
   "cell_type": "code",
   "execution_count": 63,
   "metadata": {},
   "outputs": [],
   "source": [
    "resultdf=resultdf.drop(columns=['AUTOMATED_1','AUTOMATED_2'])\n",
    "resultdf=resultdf.drop(columns=['ASK1_1','ASK1_2','SUBNUMERACY1','SUBNUMERACY2'])"
   ]
  },
  {
   "cell_type": "code",
   "execution_count": 64,
   "metadata": {},
   "outputs": [
    {
     "data": {
      "text/plain": [
       "Index(['fpl', 'SWB_1', 'SWB_2', 'SWB_3', 'FWBscore', 'FSscore', 'SUBKNOWL1',\n",
       "       'ACT1_1', 'ACT1_2', 'FINGOALS',\n",
       "       ...\n",
       "       'PPT01', 'PPT25', 'PPT612', 'PPT1317', 'PPT18OV', 'PCTLT200FPL',\n",
       "       'plan1', 'plan2', 'manage1', 'manage2'],\n",
       "      dtype='object', length=184)"
      ]
     },
     "execution_count": 64,
     "metadata": {},
     "output_type": "execute_result"
    }
   ],
   "source": [
    "columns=resultdf.columns\n",
    "columns"
   ]
  },
  {
   "cell_type": "markdown",
   "metadata": {},
   "source": [
    "## Using a subset of specific columns for prediction, depending on domain knowledge"
   ]
  },
  {
   "cell_type": "code",
   "execution_count": 65,
   "metadata": {},
   "outputs": [],
   "source": [
    "cols=['fpl', 'SWB_1', 'SWB_2', 'SWB_3', 'FSscore', 'SUBKNOWL1','agecat', 'generation','FINGOALS', 'SAVEHABIT',\n",
    "      'HOUSING', 'LIVINGARRANGEMENT','VOLATILITY','FRAUD2','REJECTED_1','BENEFITS_1',\n",
    "      'HHEDUC','KIDS_NoChildren', 'KIDS_1', 'KIDS_2', 'KIDS_3', 'KIDS_4',\n",
    "      'PPEDUC', 'PPETHM', 'PPGENDER', 'PPHHSIZE', 'PPINCIMP', 'PPMARIT','plan1','plan2','manage1','manage2']"
   ]
  },
  {
   "cell_type": "code",
   "execution_count": 66,
   "metadata": {},
   "outputs": [],
   "source": [
    "finaldf=resultdf[cols].copy()"
   ]
  },
  {
   "cell_type": "code",
   "execution_count": 67,
   "metadata": {},
   "outputs": [
    {
     "data": {
      "text/plain": [
       "Index(['fpl', 'SWB_1', 'SWB_2', 'SWB_3', 'FSscore', 'SUBKNOWL1', 'agecat',\n",
       "       'generation', 'FINGOALS', 'SAVEHABIT', 'HOUSING', 'LIVINGARRANGEMENT',\n",
       "       'VOLATILITY', 'FRAUD2', 'REJECTED_1', 'BENEFITS_1', 'HHEDUC',\n",
       "       'KIDS_NoChildren', 'KIDS_1', 'KIDS_2', 'KIDS_3', 'KIDS_4', 'PPEDUC',\n",
       "       'PPETHM', 'PPGENDER', 'PPHHSIZE', 'PPINCIMP', 'PPMARIT', 'plan1',\n",
       "       'plan2', 'manage1', 'manage2'],\n",
       "      dtype='object')"
      ]
     },
     "execution_count": 67,
     "metadata": {},
     "output_type": "execute_result"
    }
   ],
   "source": [
    "finaldf.columns"
   ]
  },
  {
   "cell_type": "markdown",
   "metadata": {},
   "source": [
    "### Doing one-hot encoding for categorical variables"
   ]
  },
  {
   "cell_type": "code",
   "execution_count": 68,
   "metadata": {},
   "outputs": [],
   "source": [
    "catcols=['agecat', 'generation','FINGOALS', 'SAVEHABIT',\n",
    "      'HOUSING', 'LIVINGARRANGEMENT','VOLATILITY','REJECTED_1','BENEFITS_1',\n",
    "      'HHEDUC','KIDS_NoChildren', 'KIDS_1', 'KIDS_2', 'KIDS_3', 'KIDS_4',\n",
    "      'PPEDUC', 'PPETHM', 'PPGENDER', 'PPHHSIZE', 'PPINCIMP', 'PPMARIT']\n",
    "for col in catcols:\n",
    "    dummy=pd.get_dummies(finaldf[col],prefix=col)\n",
    "    finaldf=pd.concat([finaldf,dummy],axis=1)"
   ]
  },
  {
   "cell_type": "code",
   "execution_count": 69,
   "metadata": {},
   "outputs": [
    {
     "data": {
      "text/plain": [
       "Index(['fpl', 'SWB_1', 'SWB_2', 'SWB_3', 'FSscore', 'SUBKNOWL1', 'agecat',\n",
       "       'generation', 'FINGOALS', 'SAVEHABIT',\n",
       "       ...\n",
       "       'PPINCIMP_5', 'PPINCIMP_6', 'PPINCIMP_7', 'PPINCIMP_8', 'PPINCIMP_9',\n",
       "       'PPMARIT_1', 'PPMARIT_2', 'PPMARIT_3', 'PPMARIT_4', 'PPMARIT_5'],\n",
       "      dtype='object', length=116)"
      ]
     },
     "execution_count": 69,
     "metadata": {},
     "output_type": "execute_result"
    }
   ],
   "source": [
    "finaldf.columns"
   ]
  },
  {
   "cell_type": "markdown",
   "metadata": {},
   "source": [
    "## Heavily unbiased sample, we shall use downsampling"
   ]
  },
  {
   "cell_type": "code",
   "execution_count": 70,
   "metadata": {},
   "outputs": [
    {
     "name": "stdout",
     "output_type": "stream",
     "text": [
      "0    2656\n",
      "Name: FRAUD2, dtype: int64\n",
      "1    1129\n",
      "Name: FRAUD2, dtype: int64\n"
     ]
    },
    {
     "data": {
      "text/plain": [
       "1    1129\n",
       "0    1129\n",
       "Name: FRAUD2, dtype: int64"
      ]
     },
     "execution_count": 70,
     "metadata": {},
     "output_type": "execute_result"
    }
   ],
   "source": [
    "#heavily biased towards 0 class, let us try downsampling\n",
    "# Separate majority and minority classes\n",
    "df_majority=finaldf[finaldf.FRAUD2==0].copy()\n",
    "df_minority = finaldf[finaldf.FRAUD2==1].copy()\n",
    "print(df_majority.FRAUD2.value_counts())\n",
    "print(df_minority.FRAUD2.value_counts())\n",
    "nsamples=df_minority.FRAUD2.value_counts()\n",
    "from sklearn.utils import resample\n",
    "# Downsample majority class\n",
    "df_majority_downsampled = resample(df_majority, \n",
    "                                 replace=False,    # sample without replacement\n",
    "                                 n_samples=nsamples[1],     # to match minority class\n",
    "                                 random_state=123) # reproducible results\n",
    " \n",
    "# Combine minority class with downsampled majority class\n",
    "df_downsampled = pd.concat([df_majority_downsampled, df_minority])\n",
    " \n",
    "# Display new class counts\n",
    "df_downsampled.FRAUD2.value_counts()"
   ]
  },
  {
   "cell_type": "markdown",
   "metadata": {},
   "source": [
    "### Splitting the dataset into training and validation"
   ]
  },
  {
   "cell_type": "code",
   "execution_count": 71,
   "metadata": {},
   "outputs": [],
   "source": [
    "mdf=df_downsampled.copy()\n",
    "mdf=mdf.dropna()\n",
    "from sklearn.model_selection import train_test_split\n",
    "\n",
    "train, test = train_test_split(mdf, test_size=0.2)\n",
    "train=train.dropna()\n",
    "test=test.dropna()\n",
    "#predictors=['FSscore','ACT1_1', 'ACT1_2', 'fingoals_0.0', 'fingoals_1.0','agecat_1', 'agecat_2', 'agecat_3', 'agecat_4', 'agecat_5', 'agecat_6',\n",
    " #      'agecat_7', 'agecat_8']\n",
    "predictors=['fpl', 'SWB_1', 'SWB_2', 'SWB_3', 'FSscore', 'SUBKNOWL1',\n",
    "            'plan1', 'plan2', 'manage1', 'manage2',\n",
    "            'agecat_1', 'agecat_2', 'agecat_3', 'agecat_4', 'agecat_5', 'agecat_6',\n",
    "            'agecat_7', 'agecat_8','generation_1', 'generation_2', 'generation_3', 'generation_4',\n",
    "            'FINGOALS_0', 'FINGOALS_1', 'SAVEHABIT_1', 'SAVEHABIT_2', 'SAVEHABIT_3',\n",
    "            'SAVEHABIT_4', 'SAVEHABIT_5', 'SAVEHABIT_6', 'HOUSING_1', 'HOUSING_2',\n",
    "            'HOUSING_3', 'LIVINGARRANGEMENT_1', 'LIVINGARRANGEMENT_2',\n",
    "            'LIVINGARRANGEMENT_3', 'LIVINGARRANGEMENT_4', 'LIVINGARRANGEMENT_5',\n",
    "            'VOLATILITY_1', 'VOLATILITY_2', 'VOLATILITY_3', 'REJECTED_1_0',\n",
    "            'REJECTED_1_1', 'BENEFITS_1_0', 'BENEFITS_1_1', 'HHEDUC_1', 'HHEDUC_2',\n",
    "            'HHEDUC_3', 'HHEDUC_4', 'HHEDUC_5', 'KIDS_NoChildren_0',\n",
    "            'KIDS_NoChildren_1', 'KIDS_1_0', 'KIDS_1_1', 'KIDS_1_2', 'KIDS_2_0',\n",
    "            'KIDS_2_1', 'KIDS_2_2','KIDS_3_0', 'KIDS_3_1', 'KIDS_3_2', 'KIDS_4_0', 'KIDS_4_1', 'KIDS_4_2',\n",
    "            'PPEDUC_1', 'PPEDUC_2', 'PPEDUC_3', 'PPEDUC_4', 'PPEDUC_5', 'PPETHM_1',\n",
    "            'PPETHM_2', 'PPETHM_3', 'PPETHM_4', 'PPGENDER_1', 'PPGENDER_2',\n",
    "            'PPHHSIZE_1', 'PPHHSIZE_2', 'PPHHSIZE_3','PPHHSIZE_4', 'PPHHSIZE_5', \n",
    "            'PPINCIMP_1', 'PPINCIMP_2', 'PPINCIMP_3','PPINCIMP_4', 'PPINCIMP_5', \n",
    "            'PPINCIMP_6', 'PPINCIMP_7', 'PPINCIMP_8',\n",
    "            'PPINCIMP_9', 'PPMARIT_1', 'PPMARIT_2', 'PPMARIT_3', 'PPMARIT_4','PPMARIT_5'\n",
    "           ]\n",
    "#predictors=['FSscore','KIDS_NoChildren']\n",
    "label=['FRAUD2']"
   ]
  },
  {
   "cell_type": "markdown",
   "metadata": {},
   "source": [
    "### Creating X and Y set for both training and validation"
   ]
  },
  {
   "cell_type": "code",
   "execution_count": 72,
   "metadata": {},
   "outputs": [],
   "source": [
    "X_train =train[predictors]\n",
    "y_train =train[label]\n",
    "X_test = test[predictors]\n",
    "y_test = test[label]\n",
    "\n",
    "#xgboost needs ravel\n",
    "y_train=y_train.values.ravel()\n",
    "y_test=y_test.values.ravel()"
   ]
  },
  {
   "cell_type": "code",
   "execution_count": 73,
   "metadata": {},
   "outputs": [
    {
     "name": "stdout",
     "output_type": "stream",
     "text": [
      "[[117 108]\n",
      " [118 109]]\n",
      "Decision Tree: 0.500000 0.500088\n",
      "[[153 116]\n",
      " [ 82 101]]\n",
      "Random Forest: 0.561947 0.577821\n",
      "[[127  82]\n",
      " [108 135]]\n",
      "GBM: 0.579646 0.603883\n",
      "[[126  79]\n",
      " [109 138]]\n",
      "XGB: 0.584071 0.625728\n"
     ]
    },
    {
     "name": "stderr",
     "output_type": "stream",
     "text": [
      "/anaconda3/lib/python3.6/site-packages/sklearn/preprocessing/label.py:151: DeprecationWarning: The truth value of an empty array is ambiguous. Returning False, but in future this will result in an error. Use `array.size > 0` to check that an array is not empty.\n",
      "  if diff:\n"
     ]
    }
   ],
   "source": [
    "#importing all the models\n",
    "from sklearn.tree import DecisionTreeClassifier\n",
    "from sklearn.ensemble import GradientBoostingClassifier\n",
    "from sklearn.ensemble import RandomForestClassifier\n",
    "from xgboost import XGBClassifier\n",
    "\n",
    "\n",
    "\n",
    "#import accuracy measures\n",
    "from sklearn.metrics import accuracy_score\n",
    "from sklearn.metrics import roc_auc_score\n",
    "from sklearn.metrics import confusion_matrix\n",
    "\n",
    "models=[]\n",
    "\n",
    "\n",
    "models.append(('Decision Tree', DecisionTreeClassifier()))\n",
    "models.append(('Random Forest', RandomForestClassifier()))\n",
    "models.append(('GBM', GradientBoostingClassifier()))\n",
    "models.append(('XGB', XGBClassifier()))\n",
    "#models.append((\"CatBoost\",CatBoostClassifier()))\n",
    "\n",
    "\n",
    "\n",
    "# evaluate each model in turn\n",
    "\n",
    "names = []\n",
    "accuracy=[]\n",
    "rocscore=[]\n",
    "for name, model in models:\n",
    "    modelfit=model.fit(X_train,y_train)\n",
    "    predval=modelfit.predict(X_test)\n",
    "    accu_score=accuracy_score(predval, y_test)\n",
    "    predprob=model.predict_proba(X_test)\n",
    "    roscore=roc_auc_score(y_test, predprob[:,1])\n",
    "    confmatrix=confusion_matrix(predval,y_test)\n",
    "    print(confmatrix)\n",
    "    names.append(name)\n",
    "    accuracy.append(accu_score)\n",
    "    rocscore.append(roscore)\n",
    "    msg = \"%s: %f %f\" % (name, accu_score,roscore)\n",
    "    print(msg)\n"
   ]
  },
  {
   "cell_type": "markdown",
   "metadata": {},
   "source": [
    "## Conclusion: XGBoost does the best job of ROC score which is a better judge of how a model performs"
   ]
  },
  {
   "cell_type": "markdown",
   "metadata": {},
   "source": [
    "## Trying CATBOOST to see if it gives better results given the prevalence of categorical variables"
   ]
  },
  {
   "cell_type": "code",
   "execution_count": 75,
   "metadata": {},
   "outputs": [],
   "source": [
    "#splitting dataset for training and test\n",
    "#mdf=df_downsampled.copy()- not doing downsampling\n",
    "mdf=df_downsampled.copy()\n",
    "mdf=mdf.dropna()\n",
    "mdf=mdf.loc[:,['fpl', 'SWB_1', 'SWB_2', 'SWB_3', 'FSscore', 'SUBKNOWL1', 'agecat',\n",
    "       'generation', 'FINGOALS', 'SAVEHABIT', 'HOUSING', 'LIVINGARRANGEMENT',\n",
    "       'VOLATILITY', 'FRAUD2', 'REJECTED_1', 'BENEFITS_1', 'HHEDUC',\n",
    "       'KIDS_NoChildren', 'KIDS_1', 'KIDS_2','KIDS_3', 'KIDS_4', 'PPEDUC', 'PPETHM', 'PPGENDER', 'PPHHSIZE',\n",
    "       'PPINCIMP', 'PPMARIT', 'plan1', 'plan2', 'manage1', 'manage2']]\n",
    "\n",
    "from sklearn.model_selection import train_test_split\n",
    "predictors=['fpl', 'SWB_1', 'SWB_2', 'SWB_3', 'FSscore', 'SUBKNOWL1', 'agecat',\n",
    "       'generation', 'FINGOALS', 'SAVEHABIT', 'HOUSING', 'LIVINGARRANGEMENT',\n",
    "       'VOLATILITY', 'REJECTED_1', 'BENEFITS_1', 'HHEDUC',\n",
    "       'KIDS_NoChildren', 'KIDS_1', 'KIDS_2','KIDS_3', 'KIDS_4', 'PPEDUC', 'PPETHM', 'PPGENDER', 'PPHHSIZE',\n",
    "       'PPINCIMP', 'PPMARIT', 'plan1', 'plan2', 'manage1', 'manage2']\n",
    "train, test = train_test_split(mdf, test_size=0.2)\n",
    "train=train.dropna()\n",
    "test=test.dropna()\n",
    "label=['FRAUD2']\n",
    "Xcat_train =train[predictors]\n",
    "ycat_train =train[label]\n",
    "Xcat_test = test[predictors]\n",
    "ycat_test = test[label]"
   ]
  },
  {
   "cell_type": "code",
   "execution_count": 76,
   "metadata": {},
   "outputs": [
    {
     "name": "stdout",
     "output_type": "stream",
     "text": [
      "0:\tlearn: 0.5644970\ttotal: 80.6ms\tremaining: 726ms\n",
      "1:\tlearn: 0.5221289\ttotal: 90.9ms\tremaining: 364ms\n",
      "2:\tlearn: 0.5071739\ttotal: 99.7ms\tremaining: 233ms\n",
      "3:\tlearn: 0.4985964\ttotal: 113ms\tremaining: 170ms\n",
      "4:\tlearn: 0.4932574\ttotal: 125ms\tremaining: 125ms\n",
      "5:\tlearn: 0.4867888\ttotal: 142ms\tremaining: 94.4ms\n",
      "6:\tlearn: 0.4820889\ttotal: 160ms\tremaining: 68.6ms\n",
      "7:\tlearn: 0.4799447\ttotal: 168ms\tremaining: 41.9ms\n",
      "8:\tlearn: 0.4794732\ttotal: 190ms\tremaining: 21.1ms\n",
      "9:\tlearn: 0.4756200\ttotal: 206ms\tremaining: 0us\n",
      "Printing the ROC\n"
     ]
    },
    {
     "data": {
      "image/png": "[encoded data removed]",
      "text/plain": [
       "<Figure size 432x288 with 1 Axes>"
      ]
     },
     "metadata": {},
     "output_type": "display_data"
    }
   ],
   "source": [
    "#trying catboost given so many categorical variables\n",
    "# Initialize CatBoostClassifier\n",
    "from catboost import CatBoostClassifier\n",
    "#import accuracy measures\n",
    "from sklearn.metrics import accuracy_score\n",
    "from sklearn.metrics import roc_auc_score\n",
    "from sklearn.metrics import confusion_matrix\n",
    "#model_cb = CatBoostClassifier(iterations=15, learning_rate=0.4, depth=7,bagging_temperature=0.75,leaf_estimation_method=\"Gradient\",loss_function='Logloss')\n",
    "predictors=['fpl', 'SWB_1', 'SWB_2', 'SWB_3', 'FSscore', 'SUBKNOWL1', 'agecat',\n",
    "       'generation', 'FINGOALS', 'SAVEHABIT', 'HOUSING', 'LIVINGARRANGEMENT',\n",
    "       'VOLATILITY', 'REJECTED_1', 'BENEFITS_1', 'HHEDUC',\n",
    "       'KIDS_NoChildren', 'KIDS_1', 'KIDS_2','KIDS_3', 'KIDS_4', 'PPEDUC', 'PPETHM', 'PPGENDER', 'PPHHSIZE',\n",
    "       'PPINCIMP', 'PPMARIT', 'plan1', 'plan2', 'manage1', 'manage2']\n",
    "#predictors=['FSscore','KIDS_NoChildren']\n",
    "label=['FRAUD2']\n",
    "model_cb = CatBoostClassifier(iterations=10, learning_rate=0.4, depth=5,loss_function='Logloss',scale_pos_weight=4)\n",
    "categoricalpred=[6,7,8,9,10,11,12,13,14,15,16,17,18,19,20,21,22,23,24,25,26]\n",
    "noncat=['fpl', 'SWB_1', 'SWB_2', 'SWB_3', 'FSscore', 'SUBKNOWL1','plan1', 'plan2', 'manage1', 'manage2']\n",
    "# Fit model\n",
    "model_cb.fit(Xcat_train, ycat_train,cat_features=categoricalpred)\n",
    "predcb=model_cb.predict(Xcat_test)\n",
    "predprob=model_cb.predict_proba(Xcat_test)\n",
    "cbscore=roc_auc_score(ycat_test, predprob[:,1])\n",
    "preds = predprob[:,1]\n",
    "print(\"Printing the ROC\")\n",
    "from sklearn import metrics\n",
    "# calculate the fpr and tpr for all thresholds of the classification\n",
    "preds = predprob[:,1]\n",
    "fpr, tpr, threshold = metrics.roc_curve(ycat_test, preds)\n",
    "roc_auc = metrics.auc(fpr, tpr)\n",
    "\n",
    "# method I: plt\n",
    "import matplotlib.pyplot as plt\n",
    "\n",
    "%matplotlib inline\n",
    "plt.title('Receiver Operating Characteristic')\n",
    "plt.plot(fpr, tpr, 'b', label = 'AUC = %0.2f' % roc_auc)\n",
    "plt.legend(loc = 'lower right')\n",
    "plt.plot([0, 1], [0, 1],'r--')\n",
    "plt.xlim([0, 1])\n",
    "plt.ylim([0, 1])\n",
    "plt.ylabel('True Positive Rate')\n",
    "plt.xlabel('False Positive Rate')\n",
    "plt.show()\n"
   ]
  },
  {
   "cell_type": "markdown",
   "metadata": {},
   "source": [
    "## Catboost does a good job of balancing the True Positive Rate as well as False Positive Rate"
   ]
  },
  {
   "cell_type": "code",
   "execution_count": null,
   "metadata": {},
   "outputs": [],
   "source": []
  }
 ],
 "metadata": {
  "kernelspec": {
   "display_name": "Python 3",
   "language": "python",
   "name": "python3"
  },
  "language_info": {
   "codemirror_mode": {
    "name": "ipython",
    "version": 3
   },
   "file_extension": ".py",
   "mimetype": "text/x-python",
   "name": "python",
   "nbconvert_exporter": "python",
   "pygments_lexer": "ipython3",
   "version": "3.6.5"
  }
 },
 "nbformat": 4,
 "nbformat_minor": 2
}
