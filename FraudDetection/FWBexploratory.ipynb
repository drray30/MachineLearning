{
 "cells": [
  {
   "cell_type": "markdown",
   "metadata": {},
   "source": [
    "# This notebook demonstrates an example of exploratory analysis for a Financial Consumer Dataset\n",
    "\n",
    "### Only partial data is available in the data.csv file. So the analysis can be followed, but the results of the notebook may be slightly different given the number of rows\n",
    "\n",
    "## Step 1: Reading the data and examining the number of rows and columns"
   ]
  },
  {
   "cell_type": "code",
   "execution_count": 30,
   "metadata": {},
   "outputs": [
    {
     "data": {
      "text/plain": [
       "(6394, 217)"
      ]
     },
     "execution_count": 30,
     "metadata": {},
     "output_type": "execute_result"
    }
   ],
   "source": [
    "import pandas as pd\n",
    "df=pd.read_csv(\"data.csv\")\n",
    "df.shape"
   ]
  },
  {
   "cell_type": "code",
   "execution_count": 31,
   "metadata": {},
   "outputs": [
    {
     "data": {
      "text/plain": [
       "Index(['PUF_ID', 'sample', 'fpl', 'SWB_1', 'SWB_2', 'SWB_3', 'FWBscore',\n",
       "       'FWB1_1', 'FWB1_2', 'FWB1_3',\n",
       "       ...\n",
       "       'PPMSACAT', 'PPREG4', 'PPREG9', 'PPT01', 'PPT25', 'PPT612', 'PPT1317',\n",
       "       'PPT18OV', 'PCTLT200FPL', 'finalwt'],\n",
       "      dtype='object', length=217)"
      ]
     },
     "execution_count": 31,
     "metadata": {},
     "output_type": "execute_result"
    }
   ],
   "source": [
    "df.columns\n"
   ]
  },
  {
   "cell_type": "markdown",
   "metadata": {},
   "source": [
    "### Looks like there are many columns to begin with. Let us examine them few at a time"
   ]
  },
  {
   "cell_type": "code",
   "execution_count": 32,
   "metadata": {},
   "outputs": [
    {
     "data": {
      "text/plain": [
       "Index(['VALUERANGES', 'MORTGAGE', 'SAVINGSRANGES', 'PRODHAVE_1', 'PRODHAVE_2',\n",
       "       'PRODHAVE_3', 'PRODHAVE_4', 'PRODHAVE_5', 'PRODHAVE_6', 'PRODHAVE_7',\n",
       "       'PRODHAVE_8', 'PRODHAVE_9', 'PRODUSE_1', 'PRODUSE_2', 'PRODUSE_3',\n",
       "       'PRODUSE_4', 'PRODUSE_5', 'PRODUSE_6', 'CONSPROTECT1', 'CONSPROTECT2',\n",
       "       'CONSPROTECT3', 'EARNERS', 'VOLATILITY', 'SNAP', 'MATHARDSHIP_1',\n",
       "       'MATHARDSHIP_2', 'MATHARDSHIP_3', 'MATHARDSHIP_4', 'MATHARDSHIP_5',\n",
       "       'MATHARDSHIP_6', 'COLLECT', 'REJECTED_1', 'REJECTED_2', 'ABSORBSHOCK',\n",
       "       'BENEFITS_1', 'BENEFITS_2', 'BENEFITS_3', 'BENEFITS_4', 'BENEFITS_5',\n",
       "       'FRAUD2'],\n",
       "      dtype='object')"
      ]
     },
     "execution_count": 32,
     "metadata": {},
     "output_type": "execute_result"
    }
   ],
   "source": [
    "columns=df.columns\n",
    "#start examining the columns\n",
    "intcolumns=columns[81:121]\n",
    "intcolumns"
   ]
  },
  {
   "cell_type": "code",
   "execution_count": 33,
   "metadata": {},
   "outputs": [
    {
     "data": {
      "text/plain": [
       "217"
      ]
     },
     "execution_count": 33,
     "metadata": {},
     "output_type": "execute_result"
    }
   ],
   "source": [
    "len(columns)"
   ]
  },
  {
   "cell_type": "markdown",
   "metadata": {},
   "source": [
    "### Observation: There are 217 columns"
   ]
  },
  {
   "cell_type": "markdown",
   "metadata": {},
   "source": [
    "### After examining all the columns, we have picked the index numbers of columns we are interested in"
   ]
  },
  {
   "cell_type": "code",
   "execution_count": 34,
   "metadata": {},
   "outputs": [],
   "source": [
    "#interested column list\n",
    "listcols=[2,3,4,5,6,17,28,29,30,31,32,33,34,35,36,37,38,39,40,41,42,43,44,50,58,77,78,\n",
    "         84,85,86,87,88,89,90,102,103,115,116,117,118,119,120,139,155,174,180,181,186,\n",
    "          199,200,201,202,203,204,205,206]"
   ]
  },
  {
   "cell_type": "code",
   "execution_count": 35,
   "metadata": {},
   "outputs": [
    {
     "data": {
      "text/plain": [
       "Index(['fpl', 'SWB_1', 'SWB_2', 'SWB_3', 'FWBscore', 'FSscore', 'SUBKNOWL1',\n",
       "       'ACT1_1', 'ACT1_2', 'FINGOALS', 'PROPPLAN_1', 'PROPPLAN_2',\n",
       "       'PROPPLAN_3', 'PROPPLAN_4', 'MANAGE1_1', 'MANAGE1_2', 'MANAGE1_3',\n",
       "       'MANAGE1_4', 'SAVEHABIT', 'FRUGALITY', 'AUTOMATED_1', 'AUTOMATED_2',\n",
       "       'ASK1_1', 'LMscore', 'KHKNOWL1', 'HOUSING', 'LIVINGARRANGEMENT',\n",
       "       'PRODHAVE_1', 'PRODHAVE_2', 'PRODHAVE_3', 'PRODHAVE_4', 'PRODHAVE_5',\n",
       "       'PRODHAVE_6', 'PRODHAVE_7', 'EARNERS', 'VOLATILITY', 'BENEFITS_1',\n",
       "       'BENEFITS_2', 'BENEFITS_3', 'BENEFITS_4', 'BENEFITS_5', 'FRAUD2',\n",
       "       'PAREDUC', 'SCFHORIZON', 'PEM', 'HHEDUC', 'KIDS_NoChildren', 'EMPLOY',\n",
       "       'agecat', 'generation', 'PPEDUC', 'PPETHM', 'PPGENDER', 'PPHHSIZE',\n",
       "       'PPINCIMP', 'PPMARIT'],\n",
       "      dtype='object')"
      ]
     },
     "execution_count": 35,
     "metadata": {},
     "output_type": "execute_result"
    }
   ],
   "source": [
    "#Checking if all the columns of interest have been included\n",
    "columns[listcols]"
   ]
  },
  {
   "cell_type": "markdown",
   "metadata": {},
   "source": [
    "### Creating a new dataframe with columns we are interested in"
   ]
  },
  {
   "cell_type": "code",
   "execution_count": 36,
   "metadata": {},
   "outputs": [
    {
     "data": {
      "text/plain": [
       "Index(['fpl', 'SWB_1', 'SWB_2', 'SWB_3', 'FWBscore', 'FSscore', 'SUBKNOWL1',\n",
       "       'ACT1_1', 'ACT1_2', 'FINGOALS', 'PROPPLAN_1', 'PROPPLAN_2',\n",
       "       'PROPPLAN_3', 'PROPPLAN_4', 'MANAGE1_1', 'MANAGE1_2', 'MANAGE1_3',\n",
       "       'MANAGE1_4', 'SAVEHABIT', 'FRUGALITY', 'AUTOMATED_1', 'AUTOMATED_2',\n",
       "       'ASK1_1', 'LMscore', 'KHKNOWL1', 'HOUSING', 'LIVINGARRANGEMENT',\n",
       "       'PRODHAVE_1', 'PRODHAVE_2', 'PRODHAVE_3', 'PRODHAVE_4', 'PRODHAVE_5',\n",
       "       'PRODHAVE_6', 'PRODHAVE_7', 'EARNERS', 'VOLATILITY', 'BENEFITS_1',\n",
       "       'BENEFITS_2', 'BENEFITS_3', 'BENEFITS_4', 'BENEFITS_5', 'FRAUD2',\n",
       "       'PAREDUC', 'SCFHORIZON', 'PEM', 'HHEDUC', 'KIDS_NoChildren', 'EMPLOY',\n",
       "       'agecat', 'generation', 'PPEDUC', 'PPETHM', 'PPGENDER', 'PPHHSIZE',\n",
       "       'PPINCIMP', 'PPMARIT'],\n",
       "      dtype='object')"
      ]
     },
     "execution_count": 36,
     "metadata": {},
     "output_type": "execute_result"
    }
   ],
   "source": [
    "resultdf=df.iloc[:,listcols].copy()\n",
    "resultdf.columns"
   ]
  },
  {
   "cell_type": "markdown",
   "metadata": {},
   "source": [
    "## Step 2: Dimensionality Reduction\n",
    "### Dimensionality reduction is important given we have lots of columns. We can try principal component analysis for reducing the planning as well as managing dimensions of the customer, to create a demographic profile"
   ]
  },
  {
   "cell_type": "code",
   "execution_count": 37,
   "metadata": {},
   "outputs": [],
   "source": [
    "#selecting specific columns for PCA\n",
    "df_pca=newdf.loc[:,['PROPPLAN_1', 'PROPPLAN_2','PROPPLAN_3', 'PROPPLAN_4', \n",
    "                'MANAGE1_1', 'MANAGE1_2', 'MANAGE1_3','MANAGE1_4', \n",
    "                'SAVEHABIT', 'FRUGALITY',]].copy()\n",
    "df_pca_prop=newdf.loc[:,['PROPPLAN_1', 'PROPPLAN_2','PROPPLAN_3', 'PROPPLAN_4', \n",
    "                ]].copy()"
   ]
  },
  {
   "cell_type": "markdown",
   "metadata": {},
   "source": [
    "### Examining some plots before we do the PCA"
   ]
  },
  {
   "cell_type": "code",
   "execution_count": 38,
   "metadata": {},
   "outputs": [
    {
     "data": {
      "image/png": "[encoded data removed]",
      "text/plain": [
       "<Figure size 432x288 with 4 Axes>"
      ]
     },
     "metadata": {},
     "output_type": "display_data"
    }
   ],
   "source": [
    "import matplotlib.pyplot as plt\n",
    "%matplotlib inline\n",
    "df_pca_prop.hist()\n",
    "plt.show()\n"
   ]
  },
  {
   "cell_type": "markdown",
   "metadata": {},
   "source": [
    "### We may choose to do standardization if the variables are measured on different scales. In this case, it is not needed\n",
    "### Running the PCA model"
   ]
  },
  {
   "cell_type": "code",
   "execution_count": 39,
   "metadata": {},
   "outputs": [],
   "source": [
    "from sklearn.decomposition import PCA\n",
    "pca_sk = PCA()\n",
    "pca_sk.fit(df_pca_prop)\n",
    "X_transformed_sk =  pca_sk.fit_transform(df_pca_prop)\n"
   ]
  },
  {
   "cell_type": "markdown",
   "metadata": {},
   "source": [
    "### Question: How much of the variance is explained by the components generated?"
   ]
  },
  {
   "cell_type": "code",
   "execution_count": 40,
   "metadata": {},
   "outputs": [
    {
     "data": {
      "text/plain": [
       "array([0.69788742, 0.14357068, 0.08262837, 0.07591353])"
      ]
     },
     "execution_count": 40,
     "metadata": {},
     "output_type": "execute_result"
    }
   ],
   "source": [
    "pca_sk.explained_variance_ratio_"
   ]
  },
  {
   "cell_type": "markdown",
   "metadata": {},
   "source": [
    "### Conclusion: Two components explain close to 83% of the variance and should be enough for us"
   ]
  },
  {
   "cell_type": "markdown",
   "metadata": {},
   "source": [
    "### Picking only two top components after PCA and adding it to our dataframe"
   ]
  },
  {
   "cell_type": "code",
   "execution_count": 41,
   "metadata": {},
   "outputs": [],
   "source": [
    "Xdf=pd.DataFrame(X_transformed_sk[:,0:2])\n",
    "resultdf = pd.concat([newdf, Xdf], axis=1)"
   ]
  },
  {
   "cell_type": "code",
   "execution_count": 42,
   "metadata": {},
   "outputs": [
    {
     "data": {
      "text/html": [
       "<div>\n",
       "<style scoped>\n",
       "    .dataframe tbody tr th:only-of-type {\n",
       "        vertical-align: middle;\n",
       "    }\n",
       "\n",
       "    .dataframe tbody tr th {\n",
       "        vertical-align: top;\n",
       "    }\n",
       "\n",
       "    .dataframe thead th {\n",
       "        text-align: right;\n",
       "    }\n",
       "</style>\n",
       "<table border=\"1\" class=\"dataframe\">\n",
       "  <thead>\n",
       "    <tr style=\"text-align: right;\">\n",
       "      <th></th>\n",
       "      <th>fpl</th>\n",
       "      <th>SWB_1</th>\n",
       "      <th>SWB_2</th>\n",
       "      <th>SWB_3</th>\n",
       "      <th>FWBscore</th>\n",
       "      <th>FSscore</th>\n",
       "      <th>SUBKNOWL1</th>\n",
       "      <th>ACT1_1</th>\n",
       "      <th>ACT1_2</th>\n",
       "      <th>FINGOALS</th>\n",
       "      <th>...</th>\n",
       "      <th>agecat</th>\n",
       "      <th>generation</th>\n",
       "      <th>PPEDUC</th>\n",
       "      <th>PPETHM</th>\n",
       "      <th>PPGENDER</th>\n",
       "      <th>PPHHSIZE</th>\n",
       "      <th>PPINCIMP</th>\n",
       "      <th>PPMARIT</th>\n",
       "      <th>0</th>\n",
       "      <th>1</th>\n",
       "    </tr>\n",
       "  </thead>\n",
       "  <tbody>\n",
       "    <tr>\n",
       "      <th>0</th>\n",
       "      <td>3</td>\n",
       "      <td>5</td>\n",
       "      <td>5</td>\n",
       "      <td>6</td>\n",
       "      <td>55</td>\n",
       "      <td>44</td>\n",
       "      <td>5</td>\n",
       "      <td>4</td>\n",
       "      <td>3</td>\n",
       "      <td>1</td>\n",
       "      <td>...</td>\n",
       "      <td>8</td>\n",
       "      <td>1</td>\n",
       "      <td>4</td>\n",
       "      <td>1</td>\n",
       "      <td>1</td>\n",
       "      <td>1</td>\n",
       "      <td>7</td>\n",
       "      <td>3</td>\n",
       "      <td>-0.875274</td>\n",
       "      <td>-1.065936</td>\n",
       "    </tr>\n",
       "    <tr>\n",
       "      <th>1</th>\n",
       "      <td>3</td>\n",
       "      <td>6</td>\n",
       "      <td>6</td>\n",
       "      <td>6</td>\n",
       "      <td>51</td>\n",
       "      <td>43</td>\n",
       "      <td>5</td>\n",
       "      <td>4</td>\n",
       "      <td>3</td>\n",
       "      <td>0</td>\n",
       "      <td>...</td>\n",
       "      <td>3</td>\n",
       "      <td>3</td>\n",
       "      <td>2</td>\n",
       "      <td>1</td>\n",
       "      <td>1</td>\n",
       "      <td>2</td>\n",
       "      <td>6</td>\n",
       "      <td>3</td>\n",
       "      <td>3.118507</td>\n",
       "      <td>-1.095628</td>\n",
       "    </tr>\n",
       "    <tr>\n",
       "      <th>2</th>\n",
       "      <td>3</td>\n",
       "      <td>4</td>\n",
       "      <td>3</td>\n",
       "      <td>4</td>\n",
       "      <td>49</td>\n",
       "      <td>42</td>\n",
       "      <td>5</td>\n",
       "      <td>3</td>\n",
       "      <td>3</td>\n",
       "      <td>1</td>\n",
       "      <td>...</td>\n",
       "      <td>3</td>\n",
       "      <td>3</td>\n",
       "      <td>3</td>\n",
       "      <td>2</td>\n",
       "      <td>1</td>\n",
       "      <td>3</td>\n",
       "      <td>6</td>\n",
       "      <td>3</td>\n",
       "      <td>-0.899928</td>\n",
       "      <td>0.204181</td>\n",
       "    </tr>\n",
       "    <tr>\n",
       "      <th>3</th>\n",
       "      <td>3</td>\n",
       "      <td>6</td>\n",
       "      <td>6</td>\n",
       "      <td>6</td>\n",
       "      <td>49</td>\n",
       "      <td>42</td>\n",
       "      <td>-1</td>\n",
       "      <td>-1</td>\n",
       "      <td>-1</td>\n",
       "      <td>-1</td>\n",
       "      <td>...</td>\n",
       "      <td>3</td>\n",
       "      <td>3</td>\n",
       "      <td>2</td>\n",
       "      <td>1</td>\n",
       "      <td>1</td>\n",
       "      <td>1</td>\n",
       "      <td>8</td>\n",
       "      <td>3</td>\n",
       "      <td>1.096962</td>\n",
       "      <td>0.189335</td>\n",
       "    </tr>\n",
       "    <tr>\n",
       "      <th>4</th>\n",
       "      <td>3</td>\n",
       "      <td>4</td>\n",
       "      <td>4</td>\n",
       "      <td>4</td>\n",
       "      <td>49</td>\n",
       "      <td>42</td>\n",
       "      <td>4</td>\n",
       "      <td>3</td>\n",
       "      <td>3</td>\n",
       "      <td>1</td>\n",
       "      <td>...</td>\n",
       "      <td>2</td>\n",
       "      <td>4</td>\n",
       "      <td>2</td>\n",
       "      <td>3</td>\n",
       "      <td>1</td>\n",
       "      <td>5</td>\n",
       "      <td>7</td>\n",
       "      <td>1</td>\n",
       "      <td>1.096962</td>\n",
       "      <td>0.189335</td>\n",
       "    </tr>\n",
       "  </tbody>\n",
       "</table>\n",
       "<p>5 rows × 58 columns</p>\n",
       "</div>"
      ],
      "text/plain": [
       "   fpl  SWB_1  SWB_2  SWB_3  FWBscore  FSscore  SUBKNOWL1  ACT1_1  ACT1_2  \\\n",
       "0    3      5      5      6        55       44          5       4       3   \n",
       "1    3      6      6      6        51       43          5       4       3   \n",
       "2    3      4      3      4        49       42          5       3       3   \n",
       "3    3      6      6      6        49       42         -1      -1      -1   \n",
       "4    3      4      4      4        49       42          4       3       3   \n",
       "\n",
       "   FINGOALS    ...     agecat  generation  PPEDUC  PPETHM  PPGENDER  PPHHSIZE  \\\n",
       "0         1    ...          8           1       4       1         1         1   \n",
       "1         0    ...          3           3       2       1         1         2   \n",
       "2         1    ...          3           3       3       2         1         3   \n",
       "3        -1    ...          3           3       2       1         1         1   \n",
       "4         1    ...          2           4       2       3         1         5   \n",
       "\n",
       "   PPINCIMP  PPMARIT         0         1  \n",
       "0         7        3 -0.875274 -1.065936  \n",
       "1         6        3  3.118507 -1.095628  \n",
       "2         6        3 -0.899928  0.204181  \n",
       "3         8        3  1.096962  0.189335  \n",
       "4         7        1  1.096962  0.189335  \n",
       "\n",
       "[5 rows x 58 columns]"
      ]
     },
     "execution_count": 42,
     "metadata": {},
     "output_type": "execute_result"
    }
   ],
   "source": [
    "resultdf.head()"
   ]
  },
  {
   "cell_type": "markdown",
   "metadata": {},
   "source": [
    "### Renaming the columns for better readability"
   ]
  },
  {
   "cell_type": "code",
   "execution_count": 43,
   "metadata": {},
   "outputs": [],
   "source": [
    "resultdf=resultdf.rename(columns={0:\"plan1\",1:\"plan2\"})"
   ]
  },
  {
   "cell_type": "markdown",
   "metadata": {},
   "source": [
    "###  Repeating the steps for four more columns related to managing finances"
   ]
  },
  {
   "cell_type": "code",
   "execution_count": 44,
   "metadata": {},
   "outputs": [],
   "source": [
    "#selecting specific columns for PCA\n",
    "df_pca_man=newdf.loc[:,['MANAGE1_1', 'MANAGE1_2', 'MANAGE1_3','MANAGE1_4']].copy()"
   ]
  },
  {
   "cell_type": "code",
   "execution_count": 45,
   "metadata": {},
   "outputs": [],
   "source": [
    "#doing the dimensionality reduction for manage\n",
    "from sklearn.decomposition import PCA\n",
    "pca = PCA()\n",
    "pca.fit(df_pca_man)\n",
    "X_tr_sk =  pca.fit_transform(df_pca_man)"
   ]
  },
  {
   "cell_type": "code",
   "execution_count": 46,
   "metadata": {},
   "outputs": [
    {
     "data": {
      "text/plain": [
       "array([0.60611027, 0.19766873, 0.11319199, 0.08302902])"
      ]
     },
     "execution_count": 46,
     "metadata": {},
     "output_type": "execute_result"
    }
   ],
   "source": [
    "pca.explained_variance_ratio_"
   ]
  },
  {
   "cell_type": "code",
   "execution_count": 47,
   "metadata": {},
   "outputs": [],
   "source": [
    "Xdf=pd.DataFrame(X_tr_sk[:,0:2])\n",
    "resultdf = pd.concat([resultdf, Xdf], axis=1)"
   ]
  },
  {
   "cell_type": "code",
   "execution_count": 48,
   "metadata": {},
   "outputs": [],
   "source": [
    "resultdf=resultdf.rename(columns={0:\"manage1\",1:\"manage2\"})"
   ]
  },
  {
   "cell_type": "markdown",
   "metadata": {},
   "source": [
    "### Dropping the 8 columns we  performed PCA on and retaining only the 4 components"
   ]
  },
  {
   "cell_type": "code",
   "execution_count": 49,
   "metadata": {},
   "outputs": [],
   "source": [
    "resultdf=resultdf.drop(columns=['PROPPLAN_1','PROPPLAN_2','PROPPLAN_3','PROPPLAN_4',\n",
    "                       'MANAGE1_1','MANAGE1_2','MANAGE1_3','MANAGE1_4'])"
   ]
  },
  {
   "cell_type": "markdown",
   "metadata": {},
   "source": [
    "### Examining the distribution of the predicted class"
   ]
  },
  {
   "cell_type": "code",
   "execution_count": 144,
   "metadata": {},
   "outputs": [
    {
     "data": {
      "image/png": "[encoded data removed]",
      "text/plain": [
       "<Figure size 432x288 with 1 Axes>"
      ]
     },
     "metadata": {},
     "output_type": "display_data"
    }
   ],
   "source": [
    "df['FRAUD2'].hist()\n",
    "plt.show()"
   ]
  },
  {
   "cell_type": "markdown",
   "metadata": {},
   "source": [
    "### Observation: Invalid values such as -1 and 8 denote missing values in the dataset. We shall remove them from the set"
   ]
  },
  {
   "cell_type": "code",
   "execution_count": 50,
   "metadata": {},
   "outputs": [],
   "source": [
    "#using only valid values\n",
    "resultdf=resultdf[resultdf['FRAUD2']!=-1]\n",
    "resultdf=resultdf[resultdf['FRAUD2']!=8]"
   ]
  },
  {
   "cell_type": "markdown",
   "metadata": {},
   "source": [
    "### Re-checking if the values are all valid"
   ]
  },
  {
   "cell_type": "code",
   "execution_count": 53,
   "metadata": {},
   "outputs": [
    {
     "data": {
      "image/png": "[encoded data removed]",
      "text/plain": [
       "<Figure size 432x288 with 1 Axes>"
      ]
     },
     "metadata": {},
     "output_type": "display_data"
    }
   ],
   "source": [
    "resultdf['FRAUD2'].hist()\n",
    "plt.show()"
   ]
  },
  {
   "cell_type": "markdown",
   "metadata": {},
   "source": [
    "### Using a heatmap to observe correlations"
   ]
  },
  {
   "cell_type": "code",
   "execution_count": 185,
   "metadata": {},
   "outputs": [
    {
     "data": {
      "image/png": "[encoded data removed]",
      "text/plain": [
       "<Figure size 432x288 with 2 Axes>"
      ]
     },
     "metadata": {},
     "output_type": "display_data"
    }
   ],
   "source": [
    "import seaborn as sns; sns.set()\n",
    "ax = sns.heatmap(resultdf.corr())\n",
    "plt.show()"
   ]
  },
  {
   "cell_type": "markdown",
   "metadata": {},
   "source": [
    "### Observation: Not very useful if many columns are present. Instead, one can take a look at the correlation table to isolate strongly correlated columns"
   ]
  },
  {
   "cell_type": "code",
   "execution_count": 54,
   "metadata": {},
   "outputs": [],
   "source": [
    "resultdf=resultdf.drop(columns=['SWB_1','SWB_2','SWB_3'])"
   ]
  },
  {
   "cell_type": "markdown",
   "metadata": {},
   "source": [
    "### Examining one of the variables depicting tendency to save"
   ]
  },
  {
   "cell_type": "code",
   "execution_count": 56,
   "metadata": {},
   "outputs": [
    {
     "data": {
      "image/png": "[encoded data removed]",
      "text/plain": [
       "<Figure size 432x288 with 1 Axes>"
      ]
     },
     "metadata": {},
     "output_type": "display_data"
    }
   ],
   "source": [
    "resultdf.SAVEHABIT.hist()\n",
    "plt.show()"
   ]
  },
  {
   "cell_type": "markdown",
   "metadata": {},
   "source": [
    "### Observation: Most people tend to have higher ratings on SAVEHABIT. This means that they have higher tendency to save"
   ]
  },
  {
   "cell_type": "markdown",
   "metadata": {},
   "source": [
    "### Replacing all the missing values in the dataset to NA and then dropping them"
   ]
  },
  {
   "cell_type": "code",
   "execution_count": 57,
   "metadata": {},
   "outputs": [],
   "source": [
    "import numpy as np\n",
    "resultdf=resultdf.replace('-1',np.nan).dropna(axis = 0, how = 'any')"
   ]
  },
  {
   "cell_type": "code",
   "execution_count": 58,
   "metadata": {},
   "outputs": [
    {
     "data": {
      "text/plain": [
       "(5847, 49)"
      ]
     },
     "execution_count": 58,
     "metadata": {},
     "output_type": "execute_result"
    }
   ],
   "source": [
    "resultdf.shape"
   ]
  },
  {
   "cell_type": "code",
   "execution_count": 278,
   "metadata": {},
   "outputs": [
    {
     "data": {
      "text/html": [
       "<div>\n",
       "<style scoped>\n",
       "    .dataframe tbody tr th:only-of-type {\n",
       "        vertical-align: middle;\n",
       "    }\n",
       "\n",
       "    .dataframe tbody tr th {\n",
       "        vertical-align: top;\n",
       "    }\n",
       "\n",
       "    .dataframe thead th {\n",
       "        text-align: right;\n",
       "    }\n",
       "</style>\n",
       "<table border=\"1\" class=\"dataframe\">\n",
       "  <thead>\n",
       "    <tr style=\"text-align: right;\">\n",
       "      <th></th>\n",
       "      <th>fpl</th>\n",
       "      <th>SWB_1</th>\n",
       "      <th>SWB_2</th>\n",
       "      <th>SWB_3</th>\n",
       "      <th>FWBscore</th>\n",
       "      <th>FSscore</th>\n",
       "      <th>SUBKNOWL1</th>\n",
       "      <th>ACT1_1</th>\n",
       "      <th>ACT1_2</th>\n",
       "      <th>FINGOALS</th>\n",
       "      <th>...</th>\n",
       "      <th>KIDS_NoChildren</th>\n",
       "      <th>EMPLOY</th>\n",
       "      <th>agecat</th>\n",
       "      <th>generation</th>\n",
       "      <th>PPEDUC</th>\n",
       "      <th>PPGENDER</th>\n",
       "      <th>plan1</th>\n",
       "      <th>plan2</th>\n",
       "      <th>manage1</th>\n",
       "      <th>manage2</th>\n",
       "    </tr>\n",
       "  </thead>\n",
       "  <tbody>\n",
       "    <tr>\n",
       "      <th>0</th>\n",
       "      <td>3</td>\n",
       "      <td>5</td>\n",
       "      <td>5</td>\n",
       "      <td>6</td>\n",
       "      <td>55</td>\n",
       "      <td>44</td>\n",
       "      <td>5</td>\n",
       "      <td>4</td>\n",
       "      <td>3</td>\n",
       "      <td>1</td>\n",
       "      <td>...</td>\n",
       "      <td>-1</td>\n",
       "      <td>8</td>\n",
       "      <td>8</td>\n",
       "      <td>1</td>\n",
       "      <td>4</td>\n",
       "      <td>1</td>\n",
       "      <td>-0.875274</td>\n",
       "      <td>-1.065936</td>\n",
       "      <td>1.363161</td>\n",
       "      <td>-0.751048</td>\n",
       "    </tr>\n",
       "    <tr>\n",
       "      <th>1</th>\n",
       "      <td>3</td>\n",
       "      <td>6</td>\n",
       "      <td>6</td>\n",
       "      <td>6</td>\n",
       "      <td>51</td>\n",
       "      <td>43</td>\n",
       "      <td>5</td>\n",
       "      <td>4</td>\n",
       "      <td>3</td>\n",
       "      <td>0</td>\n",
       "      <td>...</td>\n",
       "      <td>1</td>\n",
       "      <td>2</td>\n",
       "      <td>3</td>\n",
       "      <td>3</td>\n",
       "      <td>2</td>\n",
       "      <td>1</td>\n",
       "      <td>3.118507</td>\n",
       "      <td>-1.095628</td>\n",
       "      <td>2.138853</td>\n",
       "      <td>-1.361291</td>\n",
       "    </tr>\n",
       "    <tr>\n",
       "      <th>2</th>\n",
       "      <td>3</td>\n",
       "      <td>4</td>\n",
       "      <td>3</td>\n",
       "      <td>4</td>\n",
       "      <td>49</td>\n",
       "      <td>42</td>\n",
       "      <td>5</td>\n",
       "      <td>3</td>\n",
       "      <td>3</td>\n",
       "      <td>1</td>\n",
       "      <td>...</td>\n",
       "      <td>0</td>\n",
       "      <td>2</td>\n",
       "      <td>3</td>\n",
       "      <td>3</td>\n",
       "      <td>3</td>\n",
       "      <td>1</td>\n",
       "      <td>-0.899928</td>\n",
       "      <td>0.204181</td>\n",
       "      <td>1.676866</td>\n",
       "      <td>1.160168</td>\n",
       "    </tr>\n",
       "    <tr>\n",
       "      <th>3</th>\n",
       "      <td>3</td>\n",
       "      <td>6</td>\n",
       "      <td>6</td>\n",
       "      <td>6</td>\n",
       "      <td>49</td>\n",
       "      <td>42</td>\n",
       "      <td>-1</td>\n",
       "      <td>-1</td>\n",
       "      <td>-1</td>\n",
       "      <td>-1</td>\n",
       "      <td>...</td>\n",
       "      <td>-1</td>\n",
       "      <td>99</td>\n",
       "      <td>3</td>\n",
       "      <td>3</td>\n",
       "      <td>2</td>\n",
       "      <td>1</td>\n",
       "      <td>1.096962</td>\n",
       "      <td>0.189335</td>\n",
       "      <td>1.363161</td>\n",
       "      <td>-0.751048</td>\n",
       "    </tr>\n",
       "    <tr>\n",
       "      <th>4</th>\n",
       "      <td>3</td>\n",
       "      <td>4</td>\n",
       "      <td>4</td>\n",
       "      <td>4</td>\n",
       "      <td>49</td>\n",
       "      <td>42</td>\n",
       "      <td>4</td>\n",
       "      <td>3</td>\n",
       "      <td>3</td>\n",
       "      <td>1</td>\n",
       "      <td>...</td>\n",
       "      <td>1</td>\n",
       "      <td>2</td>\n",
       "      <td>2</td>\n",
       "      <td>4</td>\n",
       "      <td>2</td>\n",
       "      <td>1</td>\n",
       "      <td>1.096962</td>\n",
       "      <td>0.189335</td>\n",
       "      <td>1.676866</td>\n",
       "      <td>1.160168</td>\n",
       "    </tr>\n",
       "  </tbody>\n",
       "</table>\n",
       "<p>5 rows × 43 columns</p>\n",
       "</div>"
      ],
      "text/plain": [
       "   fpl  SWB_1  SWB_2  SWB_3  FWBscore  FSscore  SUBKNOWL1  ACT1_1  ACT1_2  \\\n",
       "0    3      5      5      6        55       44          5       4       3   \n",
       "1    3      6      6      6        51       43          5       4       3   \n",
       "2    3      4      3      4        49       42          5       3       3   \n",
       "3    3      6      6      6        49       42         -1      -1      -1   \n",
       "4    3      4      4      4        49       42          4       3       3   \n",
       "\n",
       "   FINGOALS    ...     KIDS_NoChildren  EMPLOY  agecat  generation  PPEDUC  \\\n",
       "0         1    ...                  -1       8       8           1       4   \n",
       "1         0    ...                   1       2       3           3       2   \n",
       "2         1    ...                   0       2       3           3       3   \n",
       "3        -1    ...                  -1      99       3           3       2   \n",
       "4         1    ...                   1       2       2           4       2   \n",
       "\n",
       "   PPGENDER     plan1     plan2   manage1   manage2  \n",
       "0         1 -0.875274 -1.065936  1.363161 -0.751048  \n",
       "1         1  3.118507 -1.095628  2.138853 -1.361291  \n",
       "2         1 -0.899928  0.204181  1.676866  1.160168  \n",
       "3         1  1.096962  0.189335  1.363161 -0.751048  \n",
       "4         1  1.096962  0.189335  1.676866  1.160168  \n",
       "\n",
       "[5 rows x 43 columns]"
      ]
     },
     "execution_count": 278,
     "metadata": {},
     "output_type": "execute_result"
    }
   ],
   "source": [
    "resultdf.head()"
   ]
  },
  {
   "cell_type": "markdown",
   "metadata": {},
   "source": [
    "### We may decide to save the cleaned file for future use"
   ]
  },
  {
   "cell_type": "code",
   "execution_count": 59,
   "metadata": {},
   "outputs": [],
   "source": [
    "resultdf.to_csv(\"cleandata.csv\")"
   ]
  },
  {
   "cell_type": "markdown",
   "metadata": {},
   "source": [
    "## Step 3: Creating the training and test dataset\n",
    "\n",
    "### In this example, we are using only few predictor variables to run the model. This is an iterative process. Which columns to include depends on domain knowledge as well."
   ]
  },
  {
   "cell_type": "code",
   "execution_count": 60,
   "metadata": {},
   "outputs": [],
   "source": [
    "#splitting dataset for training and test\n",
    "mdf=resultdf.copy()\n",
    "mdf=mdf.dropna()\n",
    "from sklearn.model_selection import train_test_split\n",
    "\n",
    "train, test = train_test_split(mdf, test_size=0.2)\n",
    "train=train.dropna()\n",
    "test=test.dropna()\n",
    "predictors=['FSscore','SAVEHABIT',\"ACT1_1\",'ACT1_2','plan1','plan2','manage1','manage2']\n",
    "label=['FRAUD2']\n",
    "X_train =train[predictors]\n",
    "y_train =train[label]\n",
    "X_test = test[predictors]\n",
    "y_test = test[label]\n",
    "#xgboost needs ravel\n",
    "y_train=y_train.values.ravel()\n",
    "y_test=y_test.values.ravel()"
   ]
  },
  {
   "cell_type": "markdown",
   "metadata": {},
   "source": [
    "## Step 4: Running multiple models to see which performs best"
   ]
  },
  {
   "cell_type": "code",
   "execution_count": 61,
   "metadata": {},
   "outputs": [
    {
     "name": "stdout",
     "output_type": "stream",
     "text": [
      "Logistic Regression: 0.718803 0.590349\n",
      "Decision Tree: 0.597436 0.511395\n",
      "Random Forest: 0.665812 0.536678\n",
      "GBM: 0.711111 0.573519\n",
      "XGB: 0.711111 0.586075\n"
     ]
    },
    {
     "name": "stderr",
     "output_type": "stream",
     "text": [
      "/anaconda3/lib/python3.6/site-packages/sklearn/preprocessing/label.py:151: DeprecationWarning: The truth value of an empty array is ambiguous. Returning False, but in future this will result in an error. Use `array.size > 0` to check that an array is not empty.\n",
      "  if diff:\n"
     ]
    }
   ],
   "source": [
    "#importing all the models\n",
    "from sklearn.tree import DecisionTreeClassifier\n",
    "from sklearn.ensemble import GradientBoostingClassifier\n",
    "from sklearn.ensemble import RandomForestClassifier\n",
    "from xgboost import XGBClassifier\n",
    "from sklearn.linear_model import LogisticRegression\n",
    "\n",
    "#import accuracy measures\n",
    "from sklearn.metrics import accuracy_score\n",
    "from sklearn.metrics import roc_auc_score\n",
    "\n",
    "models=[]\n",
    "models.append((\"Logistic Regression\",LogisticRegression()))\n",
    "models.append(('Decision Tree', DecisionTreeClassifier()))\n",
    "models.append(('Random Forest', RandomForestClassifier()))\n",
    "models.append(('GBM', GradientBoostingClassifier()))\n",
    "models.append(('XGB', XGBClassifier()))\n",
    "#models.append((\"CatBoost\",CatBoostClassifier()))\n",
    "\n",
    "\n",
    "\n",
    "# evaluate each model in turn\n",
    "\n",
    "names = []\n",
    "accuracy=[]\n",
    "rocscore=[]\n",
    "for name, model in models:\n",
    "    modelfit=model.fit(X_train,y_train)\n",
    "    predval=modelfit.predict(X_test)\n",
    "    accu_score=accuracy_score(predval, y_test)\n",
    "    predprob=model.predict_proba(X_test)\n",
    "    roscore=roc_auc_score(y_test, predprob[:,1])\n",
    "    names.append(name)\n",
    "    accuracy.append(accu_score)\n",
    "    rocscore.append(roscore)\n",
    "    msg = \"%s: %f %f\" % (name, accu_score,roscore)\n",
    "    print(msg)\n"
   ]
  },
  {
   "cell_type": "markdown",
   "metadata": {},
   "source": [
    "### Conclusion: Logistic Regression seems to be performing better with a better accuracy rate across classes as well as a good ROC score of 59%"
   ]
  },
  {
   "cell_type": "code",
   "execution_count": null,
   "metadata": {},
   "outputs": [],
   "source": []
  }
 ],
 "metadata": {
  "kernelspec": {
   "display_name": "Python 3",
   "language": "python",
   "name": "python3"
  },
  "language_info": {
   "codemirror_mode": {
    "name": "ipython",
    "version": 3
   },
   "file_extension": ".py",
   "mimetype": "text/x-python",
   "name": "python",
   "nbconvert_exporter": "python",
   "pygments_lexer": "ipython3",
   "version": "3.6.5"
  }
 },
 "nbformat": 4,
 "nbformat_minor": 2
}
